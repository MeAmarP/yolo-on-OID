{
  "nbformat": 4,
  "nbformat_minor": 0,
  "metadata": {
    "colab": {
      "name": "OID Work.ipynb",
      "provenance": [],
      "collapsed_sections": [],
      "authorship_tag": "ABX9TyNZz+HSjyEtEMCCqJ0f+ccZ",
      "include_colab_link": true
    },
    "kernelspec": {
      "name": "python3",
      "display_name": "Python 3"
    }
  },
  "cells": [
    {
      "cell_type": "markdown",
      "metadata": {
        "id": "view-in-github",
        "colab_type": "text"
      },
      "source": [
        "<a href=\"https://colab.research.google.com/github/MeAmarP/yolo-on-OID/blob/master/OID_Work.ipynb\" target=\"_parent\"><img src=\"https://colab.research.google.com/assets/colab-badge.svg\" alt=\"Open In Colab\"/></a>"
      ]
    },
    {
      "cell_type": "code",
      "metadata": {
        "id": "uV9GYrtlO-c6",
        "colab_type": "code",
        "outputId": "3a70d3fb-e88b-4455-b699-c3ee9fac4d7f",
        "colab": {
          "base_uri": "https://localhost:8080/",
          "height": 86
        }
      },
      "source": [
        "!git clone https://github.com/harshilpatel312/open-images-downloader.git"
      ],
      "execution_count": 0,
      "outputs": [
        {
          "output_type": "stream",
          "text": [
            "Cloning into 'open-images-downloader'...\n",
            "remote: Enumerating objects: 36, done.\u001b[K\n",
            "remote: Total 36 (delta 0), reused 0 (delta 0), pack-reused 36\u001b[K\n",
            "Unpacking objects: 100% (36/36), done.\n"
          ],
          "name": "stdout"
        }
      ]
    },
    {
      "cell_type": "code",
      "metadata": {
        "id": "K2Y21UW3PEWP",
        "colab_type": "code",
        "outputId": "da3d7216-a2e1-4022-98e2-d841dab50475",
        "colab": {
          "base_uri": "https://localhost:8080/",
          "height": 801
        }
      },
      "source": [
        "# get the training data\n",
        "!wget https://requestor-proxy.figure-eight.com/figure_eight_datasets/open-images/train-images-boxable.csv\n",
        "!wget https://requestor-proxy.figure-eight.com/figure_eight_datasets/open-images/train-annotations-bbox.csv\n",
        "\n",
        "# get the test data\n",
        "!wget https://requestor-proxy.figure-eight.com/figure_eight_datasets/open-images/test-annotations-bbox.csv\n",
        "!wget https://requestor-proxy.figure-eight.com/figure_eight_datasets/open-images/test-images.csv"
      ],
      "execution_count": 1,
      "outputs": [
        {
          "output_type": "stream",
          "text": [
            "--2020-01-12 11:47:32--  https://requestor-proxy.figure-eight.com/figure_eight_datasets/open-images/train-images-boxable.csv\n",
            "Resolving requestor-proxy.figure-eight.com (requestor-proxy.figure-eight.com)... 52.72.141.227, 18.212.0.107, 54.84.130.10\n",
            "Connecting to requestor-proxy.figure-eight.com (requestor-proxy.figure-eight.com)|52.72.141.227|:443... connected.\n",
            "HTTP request sent, awaiting response... 200 OK\n",
            "Length: 216137230 (206M) [text/csv]\n",
            "Saving to: ‘train-images-boxable.csv’\n",
            "\n",
            "train-images-boxabl 100%[===================>] 206.12M  16.2MB/s    in 14s     \n",
            "\n",
            "2020-01-12 11:47:47 (14.5 MB/s) - ‘train-images-boxable.csv’ saved [216137230/216137230]\n",
            "\n",
            "--2020-01-12 11:47:52--  https://requestor-proxy.figure-eight.com/figure_eight_datasets/open-images/train-annotations-bbox.csv\n",
            "Resolving requestor-proxy.figure-eight.com (requestor-proxy.figure-eight.com)... 52.72.141.227, 18.212.0.107, 54.84.130.10\n",
            "Connecting to requestor-proxy.figure-eight.com (requestor-proxy.figure-eight.com)|52.72.141.227|:443... connected.\n",
            "HTTP request sent, awaiting response... 200 OK\n",
            "Length: 1194033454 (1.1G) [text/csv]\n",
            "Saving to: ‘train-annotations-bbox.csv’\n",
            "\n",
            "train-annotations-b 100%[===================>]   1.11G  16.8MB/s    in 71s     \n",
            "\n",
            "2020-01-12 11:49:04 (16.1 MB/s) - ‘train-annotations-bbox.csv’ saved [1194033454/1194033454]\n",
            "\n",
            "--2020-01-12 11:49:06--  https://requestor-proxy.figure-eight.com/figure_eight_datasets/open-images/test-annotations-bbox.csv\n",
            "Resolving requestor-proxy.figure-eight.com (requestor-proxy.figure-eight.com)... 52.72.141.227, 54.84.130.10, 18.212.0.107\n",
            "Connecting to requestor-proxy.figure-eight.com (requestor-proxy.figure-eight.com)|52.72.141.227|:443... connected.\n",
            "HTTP request sent, awaiting response... 200 OK\n",
            "Length: 52174204 (50M) [text/csv]\n",
            "Saving to: ‘test-annotations-bbox.csv’\n",
            "\n",
            "test-annotations-bb 100%[===================>]  49.76M  13.6MB/s    in 4.2s    \n",
            "\n",
            "2020-01-12 11:49:11 (11.8 MB/s) - ‘test-annotations-bbox.csv’ saved [52174204/52174204]\n",
            "\n",
            "--2020-01-12 11:49:13--  https://requestor-proxy.figure-eight.com/figure_eight_datasets/open-images/test-images.csv\n",
            "Resolving requestor-proxy.figure-eight.com (requestor-proxy.figure-eight.com)... 52.72.141.227, 54.84.130.10, 18.212.0.107\n",
            "Connecting to requestor-proxy.figure-eight.com (requestor-proxy.figure-eight.com)|52.72.141.227|:443... connected.\n",
            "HTTP request sent, awaiting response... 200 OK\n",
            "Length: 15428650 (15M) [text/csv]\n",
            "Saving to: ‘test-images.csv’\n",
            "\n",
            "test-images.csv     100%[===================>]  14.71M  7.26MB/s    in 2.0s    \n",
            "\n",
            "2020-01-12 11:49:16 (7.26 MB/s) - ‘test-images.csv’ saved [15428650/15428650]\n",
            "\n"
          ],
          "name": "stdout"
        }
      ]
    },
    {
      "cell_type": "code",
      "metadata": {
        "id": "Ai_FnC5DQ8Ly",
        "colab_type": "code",
        "outputId": "29c155bd-d25f-4bb9-9f03-cfb56ad26814",
        "colab": {
          "base_uri": "https://localhost:8080/",
          "height": 228
        }
      },
      "source": [
        "!wget https://requestor-proxy.figure-eight.com/figure_eight_datasets/open-images/class-descriptions-boxable.csv"
      ],
      "execution_count": 2,
      "outputs": [
        {
          "output_type": "stream",
          "text": [
            "--2020-01-12 11:51:07--  https://requestor-proxy.figure-eight.com/figure_eight_datasets/open-images/class-descriptions-boxable.csv\n",
            "Resolving requestor-proxy.figure-eight.com (requestor-proxy.figure-eight.com)... 52.72.141.227, 18.212.0.107, 54.84.130.10\n",
            "Connecting to requestor-proxy.figure-eight.com (requestor-proxy.figure-eight.com)|52.72.141.227|:443... connected.\n",
            "HTTP request sent, awaiting response... 200 OK\n",
            "Length: 11255 (11K) [text/csv]\n",
            "Saving to: ‘class-descriptions-boxable.csv’\n",
            "\n",
            "class-descriptions- 100%[===================>]  10.99K  --.-KB/s    in 0s      \n",
            "\n",
            "2020-01-12 11:51:08 (243 MB/s) - ‘class-descriptions-boxable.csv’ saved [11255/11255]\n",
            "\n"
          ],
          "name": "stdout"
        }
      ]
    },
    {
      "cell_type": "code",
      "metadata": {
        "id": "SLqTdJ6mkTIk",
        "colab_type": "code",
        "colab": {}
      },
      "source": [
        "import pandas as pd\n",
        "path_to_train_img_csv = \"/content/train-images-boxable.csv\"\n",
        "path_to_train_imganno_csv = \"/content/train-annotations-bbox.csv\"\n",
        "path_to_classmap_csv = \"/content/class-descriptions-boxable.csv\" \n",
        "\n",
        "imgdata_df = pd.read_csv(path_to_train_img_csv)\n",
        "imganno_df = pd.read_csv(path_to_train_imganno_csv)\n",
        "  "
      ],
      "execution_count": 0,
      "outputs": []
    },
    {
      "cell_type": "code",
      "metadata": {
        "id": "h17GHRZyv43Z",
        "colab_type": "code",
        "colab": {
          "base_uri": "https://localhost:8080/",
          "height": 86
        },
        "outputId": "e7bf0d4c-ce56-4b4d-9e43-4b7ceee8fac6"
      },
      "source": [
        "imganno_df.columns"
      ],
      "execution_count": 32,
      "outputs": [
        {
          "output_type": "execute_result",
          "data": {
            "text/plain": [
              "Index(['ImageID', 'Source', 'LabelName', 'Confidence', 'XMin', 'XMax', 'YMin',\n",
              "       'YMax', 'IsOccluded', 'IsTruncated', 'IsGroupOf', 'IsDepiction',\n",
              "       'IsInside'],\n",
              "      dtype='object')"
            ]
          },
          "metadata": {
            "tags": []
          },
          "execution_count": 32
        }
      ]
    },
    {
      "cell_type": "code",
      "metadata": {
        "id": "XUFZjuhUyWXs",
        "colab_type": "code",
        "colab": {
          "base_uri": "https://localhost:8080/",
          "height": 260
        },
        "outputId": "c9bfa5c9-9a7b-4661-937c-c335f60f3e97"
      },
      "source": [
        "print(imganno_df.head())\n",
        "print(imgdata_df.head())"
      ],
      "execution_count": 38,
      "outputs": [
        {
          "output_type": "stream",
          "text": [
            "            ImageID  Source  LabelName  ...  IsGroupOf  IsDepiction  IsInside\n",
            "0  000002b66c9c498e  xclick  /m/01g317  ...          0            0         0\n",
            "1  000002b66c9c498e  xclick  /m/01g317  ...          0            0         0\n",
            "2  000002b66c9c498e  xclick  /m/01g317  ...          0            0         0\n",
            "3  000002b66c9c498e  xclick  /m/01g317  ...          0            0         0\n",
            "4  000002b66c9c498e  xclick  /m/01g317  ...          0            0         0\n",
            "\n",
            "[5 rows x 13 columns]\n",
            "             image_name                                          image_url\n",
            "0  e39871fd9fd74f55.jpg  https://requestor-proxy.figure-eight.com/figur...\n",
            "1  f18b91585c4d3f3e.jpg  https://requestor-proxy.figure-eight.com/figur...\n",
            "2  ede6e66b2fb59aab.jpg  https://requestor-proxy.figure-eight.com/figur...\n",
            "3  ed600d57fcee4f94.jpg  https://requestor-proxy.figure-eight.com/figur...\n",
            "4  ff47e649b23f446d.jpg  https://requestor-proxy.figure-eight.com/figur...\n"
          ],
          "name": "stdout"
        }
      ]
    },
    {
      "cell_type": "code",
      "metadata": {
        "id": "FPafk9Qqn_Yf",
        "colab_type": "code",
        "colab": {
          "base_uri": "https://localhost:8080/",
          "height": 206
        },
        "outputId": "9d035d72-79a1-4602-af26-f3077dcf0633"
      },
      "source": [
        "labelmap_df = pd.read_csv(path_to_classmap_csv,names=['classid','classname']) \n",
        "labelmap_df.head()"
      ],
      "execution_count": 14,
      "outputs": [
        {
          "output_type": "execute_result",
          "data": {
            "text/html": [
              "<div>\n",
              "<style scoped>\n",
              "    .dataframe tbody tr th:only-of-type {\n",
              "        vertical-align: middle;\n",
              "    }\n",
              "\n",
              "    .dataframe tbody tr th {\n",
              "        vertical-align: top;\n",
              "    }\n",
              "\n",
              "    .dataframe thead th {\n",
              "        text-align: right;\n",
              "    }\n",
              "</style>\n",
              "<table border=\"1\" class=\"dataframe\">\n",
              "  <thead>\n",
              "    <tr style=\"text-align: right;\">\n",
              "      <th></th>\n",
              "      <th>classid</th>\n",
              "      <th>classname</th>\n",
              "    </tr>\n",
              "  </thead>\n",
              "  <tbody>\n",
              "    <tr>\n",
              "      <th>0</th>\n",
              "      <td>/m/011k07</td>\n",
              "      <td>Tortoise</td>\n",
              "    </tr>\n",
              "    <tr>\n",
              "      <th>1</th>\n",
              "      <td>/m/011q46kg</td>\n",
              "      <td>Container</td>\n",
              "    </tr>\n",
              "    <tr>\n",
              "      <th>2</th>\n",
              "      <td>/m/012074</td>\n",
              "      <td>Magpie</td>\n",
              "    </tr>\n",
              "    <tr>\n",
              "      <th>3</th>\n",
              "      <td>/m/0120dh</td>\n",
              "      <td>Sea turtle</td>\n",
              "    </tr>\n",
              "    <tr>\n",
              "      <th>4</th>\n",
              "      <td>/m/01226z</td>\n",
              "      <td>Football</td>\n",
              "    </tr>\n",
              "  </tbody>\n",
              "</table>\n",
              "</div>"
            ],
            "text/plain": [
              "       classid   classname\n",
              "0    /m/011k07    Tortoise\n",
              "1  /m/011q46kg   Container\n",
              "2    /m/012074      Magpie\n",
              "3    /m/0120dh  Sea turtle\n",
              "4    /m/01226z    Football"
            ]
          },
          "metadata": {
            "tags": []
          },
          "execution_count": 14
        }
      ]
    },
    {
      "cell_type": "code",
      "metadata": {
        "id": "iFG8WCBkqaoO",
        "colab_type": "code",
        "colab": {
          "base_uri": "https://localhost:8080/",
          "height": 191
        },
        "outputId": "29478361-3eb3-4fa5-eecd-d345202b2507"
      },
      "source": [
        "# imganno_df[imganno_df.LabelName == classid].shape\n",
        "classid = labelmap_df[labelmap_df.classname == 'Helmet'].classid\n",
        "print(classid)\n",
        "train_helmet_anno_df = imganno_df.loc[imganno_df.LabelName == '/m/0zvk5']\n",
        "train_helmet_anno_df['imgclass'] = 0\n",
        "print(train_helmet_anno_df.head())\n",
        "\n",
        "\n",
        "#Print no of unique image ids\n",
        "print(\"Count of ImageId:\", train_helmet_anno_df.ImageID.nunique())"
      ],
      "execution_count": 39,
      "outputs": [
        {
          "output_type": "stream",
          "text": [
            "600    /m/0zvk5\n",
            "Name: classid, dtype: object\n",
            "               ImageID  Source LabelName  ...  IsGroupOf  IsDepiction  IsInside\n",
            "83    00001bcc92282a38  xclick  /m/0zvk5  ...          0            0         0\n",
            "106   000023aa04ab09ed  xclick  /m/0zvk5  ...          0            0         0\n",
            "2165  000134de87dd044b  xclick  /m/0zvk5  ...          0            0         0\n",
            "2166  000134de87dd044b  xclick  /m/0zvk5  ...          0            0         0\n",
            "2167  000134de87dd044b  xclick  /m/0zvk5  ...          0            0         0\n",
            "\n",
            "[5 rows x 13 columns]\n"
          ],
          "name": "stdout"
        }
      ]
    },
    {
      "cell_type": "code",
      "metadata": {
        "id": "qSMKZw0C327E",
        "colab_type": "code",
        "colab": {
          "base_uri": "https://localhost:8080/",
          "height": 52
        },
        "outputId": "d2010aa4-0d38-4d6a-db61-ed16aafeeaa0"
      },
      "source": [
        "from tqdm import tqdm\n",
        "for imgid in tqdm(train_helmet_anno_df.ImageID.unique()):\n",
        "  df=train_helmet_anno_df.loc[train_helmet_anno_df.ImageID == imgid ]\n",
        "  df=df[['imgclass','XMin', 'XMax', 'YMin','YMax']]\n",
        "  path_to_save = '/content/helmet_anno_files/'+imgid+'.txt'\n",
        "  df.to_csv(path_to_save, header=None, index=None, sep=' ')\n",
        "\n",
        "#check no of file generated\n",
        "import os\n",
        "len(os.listdir('/content/helmet_anno_files'))"
      ],
      "execution_count": 64,
      "outputs": [
        {
          "output_type": "stream",
          "text": [
            "100%|██████████| 7608/7608 [00:30<00:00, 246.68it/s]\n"
          ],
          "name": "stderr"
        },
        {
          "output_type": "execute_result",
          "data": {
            "text/plain": [
              "7608"
            ]
          },
          "metadata": {
            "tags": []
          },
          "execution_count": 64
        }
      ]
    },
    {
      "cell_type": "code",
      "metadata": {
        "id": "yzL26901DIT5",
        "colab_type": "code",
        "colab": {
          "base_uri": "https://localhost:8080/",
          "height": 52
        },
        "outputId": "26a1d724-d5cc-486f-9091-ae8dd670148c"
      },
      "source": [
        "from tqdm import tqdm\n",
        "import shutil\n",
        "\n",
        "path_src_dir = '/content/drive/My Drive/train/'\n",
        "path_dst_dir = '/content/helmet_img_files/'\n",
        "file_extn = '.jpg'\n",
        "\n",
        "for imgid in tqdm(train_helmet_anno_df.ImageID.unique()):\n",
        "  shutil.move(path_src_dir+imgid+file_extn, path_dst_dir+imgid+file_extn)\n",
        "\n",
        "import os\n",
        "len(os.listdir('/content/helmet_img_files'))"
      ],
      "execution_count": 66,
      "outputs": [
        {
          "output_type": "stream",
          "text": [
            "100%|██████████| 7608/7608 [55:12<00:00,  2.23it/s]\n"
          ],
          "name": "stderr"
        },
        {
          "output_type": "execute_result",
          "data": {
            "text/plain": [
              "7608"
            ]
          },
          "metadata": {
            "tags": []
          },
          "execution_count": 66
        }
      ]
    },
    {
      "cell_type": "code",
      "metadata": {
        "id": "lh-JXTaOFI1q",
        "colab_type": "code",
        "colab": {}
      },
      "source": [
        ""
      ],
      "execution_count": 0,
      "outputs": []
    }
  ]
}